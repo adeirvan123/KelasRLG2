{
  "cells": [
    {
      "cell_type": "markdown",
      "metadata": {
        "id": "view-in-github",
        "colab_type": "text"
      },
      "source": [
        "<a href=\"https://colab.research.google.com/github/oektomo/KelasRLG2/blob/master/QLFrozenLake.ipynb\" target=\"_parent\"><img src=\"https://colab.research.google.com/assets/colab-badge.svg\" alt=\"Open In Colab\"/></a>"
      ]
    },
    {
      "cell_type": "code",
      "execution_count": 299,
      "id": "7a04b0e6",
      "metadata": {
        "id": "7a04b0e6"
      },
      "outputs": [],
      "source": [
        "\"\"\"\n",
        "Created on Wed Mar 13 00:58:25 2019\n",
        "\n",
        "@author: tawehbeysolow\n",
        "mod by otm for RL-teams in OFA \n",
        "\"\"\"\n",
        "import os, time, gym, numpy as np\n",
        "\n",
        "#Parameters\n",
        "learning_rate = 1e-2\n",
        "gamma = 0.96\n",
        "epsilon = 0.9\n",
        "n_episodes = 10000 # training episode\n",
        "reward_training = []\n",
        "max_steps = 100\n",
        "#environment = gym.make('FrozenLake-v0', is_slippery=False)\n",
        "environment = gym.make('FrozenLake-v0')\n",
        "Q_matrix = np.zeros((environment.observation_space.n, environment.action_space.n))"
      ]
    },
    {
      "cell_type": "code",
      "execution_count": 300,
      "id": "64512f2f",
      "metadata": {
        "id": "64512f2f"
      },
      "outputs": [],
      "source": [
        "def choose_action(state):\n",
        "    '''\n",
        "    To be used after Q table has been updated, returns an action\n",
        "    \n",
        "    Parameters:\n",
        "        \n",
        "        state - int - the current state of the agent \n",
        "        \n",
        "    :return: int\n",
        "    '''   \n",
        "    return np.argmax(Q_matrix[state, :])"
      ]
    },
    {
      "cell_type": "code",
      "execution_count": 301,
      "id": "4469e540",
      "metadata": {
        "id": "4469e540"
      },
      "outputs": [],
      "source": [
        "def exploit_explore(prior_state, epsilon=epsilon, Q_matrix=Q_matrix):    \n",
        "    '''\n",
        "    One half of the exploit-explore paradigm that we will utilize \n",
        "    \n",
        "    Parameters \n",
        "        \n",
        "        prior_state - int  - the prior state of the environment at a given iteration\n",
        "        epsilon - float - parameter that we use to determine whether we will try a new or current best action \n",
        "        \n",
        "    :return: int\n",
        "    '''\n",
        "    \n",
        "    if np.random.uniform(0, 1) < epsilon:\n",
        "        return environment.action_space.sample()\n",
        "    else:\n",
        "        return np.argmax(Q_matrix[prior_state, :])"
      ]
    },
    {
      "cell_type": "code",
      "execution_count": 302,
      "id": "4f360650",
      "metadata": {
        "id": "4f360650"
      },
      "outputs": [],
      "source": [
        "def update_q_matrix(prior_state, observation , reward, action):\n",
        "    '''\n",
        "    Algorithm that updates the values in the Q table to reflect knowledge acquired by the agent \n",
        "    \n",
        "    Parameters \n",
        "    \n",
        "        prior_state - int  - the prior state of the environment before the current timestemp\n",
        "        observation - int  - the current state of the environment\n",
        "        reward - int - the reward yielded from the environment after an action \n",
        "        action - int - the action suggested by the epsilon greedy algorithm \n",
        "        \n",
        "    :return: None\n",
        "    '''\n",
        "    \n",
        "    prediction = Q_matrix[prior_state, action]\n",
        "    actual_label = reward + gamma * np.max(Q_matrix[observation, :])\n",
        "    Q_matrix[prior_state, action] = Q_matrix[prior_state, action] + learning_rate*(actual_label - prediction)\n",
        "    "
      ]
    },
    {
      "cell_type": "code",
      "execution_count": 303,
      "id": "b145a8f7",
      "metadata": {
        "id": "b145a8f7"
      },
      "outputs": [],
      "source": [
        "def populate_q_matrix(render=False, n_episodes=n_episodes):\n",
        "    '''\n",
        "    Directly implementing Q Learning (Greedy Epsilon) on the Frozen Lake Game\n",
        "    This function populations the empty Q matrix \n",
        "    Parameters \n",
        "    \n",
        "        prior_state - int  - the prior state of the environment before the current timestemp\n",
        "        observation - int  - the current state of the environment\n",
        "        reward - int - the reward yielded from the environment after an action \n",
        "        action - int - the action suggested by the epsilon greedy algorithm \n",
        "        \n",
        "    :return: None\n",
        "    '''    \n",
        "    \n",
        "    for episode in range(n_episodes):\n",
        "        prior_state = environment.reset()\n",
        "        _ = 0\n",
        "        \n",
        "        while _ < max_steps:\n",
        "            \n",
        "            if render == True: environment.render()\n",
        "            action = exploit_explore(prior_state)  \n",
        "            observation, reward, done, info = environment.step(action)      \n",
        "            \n",
        "            update_q_matrix(prior_state=prior_state, \n",
        "                            observation=observation, \n",
        "                            reward=reward, \n",
        "                            action=action)\n",
        "            \n",
        "            prior_state = observation\n",
        "            _ += 1\n",
        "            \n",
        "            if done:\n",
        "                reward_training.append(reward)\n",
        "                break"
      ]
    },
    {
      "cell_type": "code",
      "execution_count": 304,
      "id": "60ce26a4",
      "metadata": {
        "id": "60ce26a4"
      },
      "outputs": [],
      "source": [
        "def play_frozen_lake(n_episodes):\n",
        "    \n",
        "    '''\n",
        "    Directly implementing Q Learning (Greedy Epsilon) on the Frozen Lake Game\n",
        "    This function uses the already populated Q Matrix and displays the game being used\n",
        "    \n",
        "    Parameters \n",
        "    \n",
        "        prior_state - int  - the prior state of the environment before the current timestemp\n",
        "        observation - int  - the current state of the environment\n",
        "        reward - int - the reward yielded from the environment after an action \n",
        "        action - int - the action suggested by the epsilon greedy algorithm \n",
        "        \n",
        "    :return: None\n",
        "    '''        \n",
        "    \n",
        "    lost = 0\n",
        "    won = 0\n",
        "    for episode in range(n_episodes):\n",
        "        #print('Episode: %s'%(episode+1))\n",
        "        prior_state = environment.reset()\n",
        "        done = False\n",
        "\n",
        "        while not done: \n",
        "            #environment.render()\n",
        "            action = choose_action(prior_state)\n",
        "            observation, reward, done, info = environment.step(action)\n",
        "            prior_state = observation\n",
        "            #print(action)\n",
        "\n",
        "            #if reward == 0:\n",
        "                #time.sleep(0.5)\n",
        "                #print(action)                \n",
        "            #else:\n",
        "            if reward != 0:\n",
        "                #print('You have won on episode %s!'%(episode+1))\n",
        "                #time.sleep(5)\n",
        "                won = won + 1\n",
        "                os.system('clear')\n",
        "                break\n",
        "\n",
        "            if done and reward == -1:\n",
        "                #print('You have lost this episode... :-/')\n",
        "                #print('You have lost on episode %s!'%(episode+1))\n",
        "                #time.sleep(5)\n",
        "                lost = lost + 1\n",
        "                os.system('clear')\n",
        "                break\n",
        "\n",
        "            if done and reward == 0:\n",
        "                #print('You have lost on episode %s!'%(episode+1))\n",
        "                #environment.render()\n",
        "                #action = choose_action(prior_state)\n",
        "                #observation, reward, done, info = environment.step(action)\n",
        "                lost = lost + 1\n",
        "                break\n",
        "        #environment.render()\n",
        "    print('won:',won,' lost:',lost)"
      ]
    },
    {
      "cell_type": "code",
      "execution_count": 305,
      "id": "a927a0c6",
      "metadata": {
        "colab": {
          "base_uri": "https://localhost:8080/"
        },
        "id": "a927a0c6",
        "outputId": "83a52168-adef-4001-98e3-24b8c0ee31f7"
      },
      "outputs": [
        {
          "output_type": "stream",
          "name": "stdout",
          "text": [
            "won: 76  lost: 44\n"
          ]
        }
      ],
      "source": [
        "if __name__ == '__main__':\n",
        "        \n",
        "    populate_q_matrix(render=False) # Training\n",
        "    play_frozen_lake(n_episodes=120) # Playing"
      ]
    },
    {
      "cell_type": "code",
      "execution_count": 306,
      "id": "43dfdb7e",
      "metadata": {
        "colab": {
          "base_uri": "https://localhost:8080/",
          "height": 282
        },
        "id": "43dfdb7e",
        "outputId": "5ac5b9d8-fd9e-4f22-c45f-fe73cdc8eb8f"
      },
      "outputs": [
        {
          "output_type": "execute_result",
          "data": {
            "text/plain": [
              "[<matplotlib.lines.Line2D at 0x7fc3ac6a30d0>]"
            ]
          },
          "metadata": {},
          "execution_count": 306
        },
        {
          "output_type": "display_data",
          "data": {
            "text/plain": [
              "<Figure size 432x288 with 1 Axes>"
            ],
            "image/png": "[encoded data removed]"
          },
          "metadata": {
            "needs_background": "light"
          }
        }
      ],
      "source": [
        "import matplotlib.pyplot as plt\n",
        "plt.plot(reward_training[0:100])"
      ]
    },
    {
      "cell_type": "code",
      "source": [
        "lenreward = len(reward_training)\n",
        "plt.plot(reward_training[lenreward-101:lenreward-1])"
      ],
      "metadata": {
        "id": "A-hg-NRO3uFQ",
        "outputId": "5b0d4f5c-7ff1-4ca7-ede1-26b8a4ab137d",
        "colab": {
          "base_uri": "https://localhost:8080/",
          "height": 282
        }
      },
      "id": "A-hg-NRO3uFQ",
      "execution_count": 307,
      "outputs": [
        {
          "output_type": "execute_result",
          "data": {
            "text/plain": [
              "[<matplotlib.lines.Line2D at 0x7fc3ac551350>]"
            ]
          },
          "metadata": {},
          "execution_count": 307
        },
        {
          "output_type": "display_data",
          "data": {
            "text/plain": [
              "<Figure size 432x288 with 1 Axes>"
            ],
            "image/png": "[encoded data removed]"
          },
          "metadata": {
            "needs_background": "light"
          }
        }
      ]
    },
    {
      "cell_type": "code",
      "source": [
        "import pandas as pd\n",
        "import math\n",
        "window_size = math.ceil(lenreward/10)\n",
        "number_series = pd.Series(reward_training)\n",
        "windows = number_series.rolling(window_size)\n",
        "moving_averages = windows.mean()\n",
        "moving_averages_list = moving_averages.tolist()\n",
        "final_list = moving_averages_list[window_size-1:]\n",
        "plt.plot(final_list)"
      ],
      "metadata": {
        "colab": {
          "base_uri": "https://localhost:8080/",
          "height": 282
        },
        "id": "p_HUNu0hxz1g",
        "outputId": "53173cf8-d4b2-44e7-b295-6d8d81b2c729"
      },
      "id": "p_HUNu0hxz1g",
      "execution_count": 308,
      "outputs": [
        {
          "output_type": "execute_result",
          "data": {
            "text/plain": [
              "[<matplotlib.lines.Line2D at 0x7fc3ac4915d0>]"
            ]
          },
          "metadata": {},
          "execution_count": 308
        },
        {
          "output_type": "display_data",
          "data": {
            "text/plain": [
              "<Figure size 432x288 with 1 Axes>"
            ],
            "image/png": "[encoded data removed]"
          },
          "metadata": {
            "needs_background": "light"
          }
        }
      ]
    },
    {
      "cell_type": "code",
      "source": [
        "len(moving_averages_list)"
      ],
      "metadata": {
        "colab": {
          "base_uri": "https://localhost:8080/"
        },
        "id": "gvBfw-eSyKMh",
        "outputId": "0fd4855d-60fd-40c4-94e6-f8e42bcb45f6"
      },
      "id": "gvBfw-eSyKMh",
      "execution_count": 309,
      "outputs": [
        {
          "output_type": "execute_result",
          "data": {
            "text/plain": [
              "10000"
            ]
          },
          "metadata": {},
          "execution_count": 309
        }
      ]
    },
    {
      "cell_type": "code",
      "source": [
        ""
      ],
      "metadata": {
        "id": "E1L8Uq4T0XO4"
      },
      "id": "E1L8Uq4T0XO4",
      "execution_count": 309,
      "outputs": []
    }
  ],
  "metadata": {
    "kernelspec": {
      "display_name": "Python 3 (ipykernel)",
      "language": "python",
      "name": "python3"
    },
    "language_info": {
      "codemirror_mode": {
        "name": "ipython",
        "version": 3
      },
      "file_extension": ".py",
      "mimetype": "text/x-python",
      "name": "python",
      "nbconvert_exporter": "python",
      "pygments_lexer": "ipython3",
      "version": "3.8.10"
    },
    "toc": {
      "base_numbering": 1,
      "nav_menu": {},
      "number_sections": true,
      "sideBar": true,
      "skip_h1_title": false,
      "title_cell": "Table of Contents",
      "title_sidebar": "Contents",
      "toc_cell": false,
      "toc_position": {},
      "toc_section_display": true,
      "toc_window_display": false
    },
    "colab": {
      "name": "QLFrozenLake.ipynb",
      "provenance": [],
      "include_colab_link": true
    },
    "accelerator": "TPU"
  },
  "nbformat": 4,
  "nbformat_minor": 5
}