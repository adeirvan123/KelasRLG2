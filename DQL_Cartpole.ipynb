{
  "cells": [
    {
      "cell_type": "markdown",
      "metadata": {
        "id": "view-in-github",
        "colab_type": "text"
      },
      "source": [
        "<a href=\"https://colab.research.google.com/github/oektomo/KelasRLG2/blob/master/DQL_Cartpole.ipynb\" target=\"_parent\"><img src=\"https://colab.research.google.com/assets/colab-badge.svg\" alt=\"Open In Colab\"/></a>"
      ]
    },
    {
      "cell_type": "code",
      "execution_count": 1,
      "metadata": {
        "id": "IQd00eaaf53-"
      },
      "outputs": [],
      "source": [
        "# !pip install score\n",
        "# https://gsurma.medium.com/cartpole-introduction-to-reinforcement-learning-ed0eb5b58288"
      ]
    },
    {
      "cell_type": "code",
      "execution_count": 2,
      "metadata": {
        "id": "o-dP9nwjVGmn"
      },
      "outputs": [],
      "source": [
        "import random\n",
        "import gym\n",
        "import math\n",
        "import numpy as np\n",
        "import matplotlib.pyplot as plt\n",
        "from collections import deque\n",
        "from keras.models import Sequential\n",
        "from keras.layers import Dense\n",
        "#from keras.optimizers import Adam\n",
        "from tensorflow.keras.optimizers import Adam\n",
        "\n",
        "# from scores.score_logger import ScoreLogger\n",
        "\n",
        "ENV_NAME = \"CartPole-v1\"\n",
        "\n",
        "GAMMA = 0.95\n",
        "LEARNING_RATE = 0.001\n",
        "\n",
        "MEMORY_SIZE = 1000000\n",
        "BATCH_SIZE = 20\n",
        "\n",
        "EXPLORATION_MAX = 1.0\n",
        "EXPLORATION_MIN = 0.01\n",
        "EXPLORATION_DECAY = 0.995"
      ]
    },
    {
      "cell_type": "code",
      "execution_count": 3,
      "metadata": {
        "id": "TRLxoXtdVefh"
      },
      "outputs": [],
      "source": [
        "class DQNSolver:\n",
        "  def __init__(self, observation_space, action_space):\n",
        "    self.exploration_rate = EXPLORATION_MAX\n",
        "    \n",
        "    self.action_space = action_space\n",
        "    self.memory = deque(maxlen=MEMORY_SIZE)\n",
        "\n",
        "    self.model = Sequential()\n",
        "    self.model.add(Dense(24, input_shape=(observation_space, ), activation=\"relu\"))\n",
        "    self.model.add(Dense(24, activation=\"relu\"))\n",
        "    self.model.add(Dense(self.action_space, activation=\"linear\"))\n",
        "    # model.compile(optimizer=tf.keras.optimizers.Adam(learning_rate=1e-3),\n",
        "    self.model.compile(loss=\"mse\", optimizer=Adam(learning_rate=LEARNING_RATE))\n",
        "  \n",
        "  def remember(self, state, action, reward, next_state, done):\n",
        "    self.memory.append((state, action, reward, next_state, done))\n",
        "\n",
        "  # choose if we want to explore or use the neural net\n",
        "  def act(self, state):\n",
        "    if np.random.rand() < self.exploration_rate:\n",
        "      return random.randrange(self.action_space)\n",
        "    q_values = self.model.predict(state)\n",
        "    return np.argmax(q_values[0])\n",
        "\n",
        "  # Replay Memory in Experience Replay\n",
        "  def experience_replay(self):\n",
        "    if len(self.memory) < BATCH_SIZE:\n",
        "      return\n",
        "    batch = random.sample(self.memory, BATCH_SIZE)\n",
        "    for state, action, reward, state_next, terminal in batch:\n",
        "      q_update = reward\n",
        "      if not terminal:\n",
        "        q_update = reward + GAMMA * np.amax(self.model.predict(state_next)[0])\n",
        "      q_values = self.model.predict(state)\n",
        "      q_values[0][action] = q_update\n",
        "      self.model.fit(state, q_values, verbose=0)\n",
        "    self.exploration_rate *= EXPLORATION_DECAY\n",
        "    self.exploration_rate = max(EXPLORATION_MIN, self.exploration_rate)"
      ]
    },
    {
      "cell_type": "code",
      "execution_count": 4,
      "metadata": {
        "id": "WBqbZjUEe3Io"
      },
      "outputs": [],
      "source": [
        "def cartpole(max_run = 3):\n",
        "    env = gym.make(ENV_NAME)\n",
        "    #score_logger = ScoreLogger(ENV_NAME)\n",
        "    observation_space = env.observation_space.shape[0]\n",
        "    action_space = env.action_space.n\n",
        "    dqn_solver = DQNSolver(observation_space, action_space)\n",
        "    run = 0\n",
        "    score = []\n",
        "    lcpos = [] # longest episode cart position\n",
        "    lcvel = [] # longest episode cart velocity\n",
        "    lpangl = [] # longest episode pole angle\n",
        "    #max_run = 3\n",
        "    while True:\n",
        "        run += 1\n",
        "        state = env.reset()\n",
        "        state = np.reshape(state, [1, observation_space])\n",
        "        step = 0\n",
        "        cpos = []\n",
        "        cvel = []\n",
        "        pangl = []\n",
        "        cpos.append(state[0,0])\n",
        "        cvel.append(state[0,1])\n",
        "        pangl.append(state[0,2])\n",
        "        while True:\n",
        "            step += 1\n",
        "            #env.render()\n",
        "            action = dqn_solver.act(state)\n",
        "            state_next, reward, terminal, info = env.step(action)\n",
        "            cpos.append(state_next[0])\n",
        "            cvel.append(state_next[1])\n",
        "            pangl.append(math.degrees(state_next[2]))\n",
        "            reward = reward if not terminal else -reward\n",
        "            state_next = np.reshape(state_next, [1, observation_space])\n",
        "            dqn_solver.remember(state, action, reward, state_next, terminal)\n",
        "            state = state_next\n",
        "            if terminal:\n",
        "                print (\"Episode: \"+str(run)+\n",
        "                       \", exploration: \"+str(round(dqn_solver.exploration_rate, 3))+\n",
        "                       \", score: \"+str(step)+\n",
        "                       \", pos: \"+str(round(state_next[0,0], 3))+\n",
        "                       \", angle: \"+str(round(math.degrees(state_next[0,2]), 2))+\n",
        "                       \" deg\")\n",
        "                score.append(step)\n",
        "                #if cpos.size > lcpos.size:\n",
        "                if len(cpos) > len(lcpos):\n",
        "                    lcpos = cpos\n",
        "                    lcvel = cvel\n",
        "                    lpangl = pangl\n",
        "                #plt.plot(pangl)\n",
        "                #plt.plot(cvel)\n",
        "                #score_logger.add_score(step, run)\n",
        "                break\n",
        "            dqn_solver.experience_replay()\n",
        "        if run >= max_run:\n",
        "            break\n",
        "    plt.plot(score)\n",
        "    return score, lcpos, lcvel, lpangl\n",
        "    # todo: check the code for saving the longest episode cart speed, cart position, pole angle\n",
        "    # refactor the code to make one list to record angle and score?"
      ]
    },
    {
      "cell_type": "code",
      "execution_count": null,
      "metadata": {
        "colab": {
          "base_uri": "https://localhost:8080/"
        },
        "id": "PxZvz9En7hhA",
        "outputId": "9aca5fc6-b703-43be-e089-7a4da19a3a6b"
      },
      "outputs": [
        {
          "output_type": "stream",
          "name": "stdout",
          "text": [
            "Episode: 1, exploration: 0.798, score: 65, pos: 0.078, angle: -14.39 deg\n",
            "Episode: 2, exploration: 0.673, score: 35, pos: 0.259, angle: -12.39 deg\n",
            "Episode: 3, exploration: 0.621, score: 17, pos: 0.184, angle: -12.16 deg\n",
            "Episode: 4, exploration: 0.597, score: 9, pos: 0.1, angle: -12.26 deg\n",
            "Episode: 5, exploration: 0.57, score: 10, pos: 0.105, angle: -14.05 deg\n",
            "Episode: 6, exploration: 0.532, score: 15, pos: 0.164, angle: -13.57 deg\n",
            "Episode: 7, exploration: 0.511, score: 9, pos: 0.122, angle: -13.31 deg\n",
            "Episode: 8, exploration: 0.469, score: 18, pos: 0.07, angle: -12.33 deg\n",
            "Episode: 9, exploration: 0.448, score: 10, pos: 0.222, angle: -12.67 deg\n",
            "Episode: 10, exploration: 0.431, score: 9, pos: 0.113, angle: -13.87 deg\n",
            "Episode: 11, exploration: 0.398, score: 17, pos: 0.216, angle: -12.46 deg\n",
            "Episode: 12, exploration: 0.374, score: 13, pos: -0.173, angle: 12.86 deg\n",
            "Episode: 13, exploration: 0.354, score: 12, pos: -0.045, angle: 12.76 deg\n",
            "Episode: 14, exploration: 0.339, score: 10, pos: -0.204, angle: 14.59 deg\n",
            "Episode: 15, exploration: 0.322, score: 11, pos: -0.183, angle: 14.43 deg\n",
            "Episode: 16, exploration: 0.305, score: 12, pos: -0.08, angle: 13.23 deg\n",
            "Episode: 17, exploration: 0.284, score: 15, pos: -0.153, angle: 12.84 deg\n",
            "Episode: 18, exploration: 0.268, score: 13, pos: -0.107, angle: 13.85 deg\n",
            "Episode: 19, exploration: 0.258, score: 8, pos: -0.112, angle: 12.79 deg\n",
            "Episode: 20, exploration: 0.24, score: 16, pos: -0.221, angle: 12.6 deg\n",
            "Episode: 21, exploration: 0.225, score: 14, pos: -0.115, angle: 13.62 deg\n",
            "Episode: 22, exploration: 0.205, score: 19, pos: -0.187, angle: 14.96 deg\n",
            "Episode: 23, exploration: 0.196, score: 10, pos: -0.155, angle: 13.89 deg\n",
            "Episode: 24, exploration: 0.187, score: 10, pos: -0.17, angle: 13.09 deg\n",
            "Episode: 25, exploration: 0.179, score: 10, pos: -0.196, angle: 14.23 deg\n",
            "Episode: 26, exploration: 0.172, score: 9, pos: -0.099, angle: 14.66 deg\n",
            "Episode: 27, exploration: 0.166, score: 8, pos: -0.147, angle: 12.81 deg\n",
            "Episode: 28, exploration: 0.159, score: 10, pos: -0.14, angle: 13.44 deg\n",
            "Episode: 29, exploration: 0.153, score: 9, pos: -0.123, angle: 12.29 deg\n",
            "Episode: 30, exploration: 0.146, score: 10, pos: -0.175, angle: 14.54 deg\n",
            "Episode: 31, exploration: 0.139, score: 10, pos: -0.189, angle: 14.79 deg\n",
            "Episode: 32, exploration: 0.131, score: 13, pos: -0.097, angle: 13.43 deg\n",
            "Episode: 33, exploration: 0.125, score: 11, pos: -0.176, angle: 12.88 deg\n",
            "Episode: 34, exploration: 0.119, score: 10, pos: -0.153, angle: 12.55 deg\n",
            "Episode: 35, exploration: 0.115, score: 9, pos: -0.185, angle: 14.41 deg\n",
            "Episode: 36, exploration: 0.11, score: 9, pos: 0.176, angle: -14.0 deg\n",
            "Episode: 37, exploration: 0.105, score: 10, pos: 0.137, angle: -13.77 deg\n",
            "Episode: 38, exploration: 0.101, score: 9, pos: 0.091, angle: -14.71 deg\n",
            "Episode: 39, exploration: 0.096, score: 11, pos: 0.115, angle: -12.79 deg\n",
            "Episode: 40, exploration: 0.092, score: 10, pos: 0.208, angle: -14.74 deg\n",
            "Episode: 41, exploration: 0.088, score: 9, pos: 0.121, angle: -12.35 deg\n",
            "Episode: 42, exploration: 0.084, score: 11, pos: 0.145, angle: -13.23 deg\n",
            "Episode: 43, exploration: 0.081, score: 9, pos: 0.124, angle: -13.42 deg\n",
            "Episode: 44, exploration: 0.077, score: 11, pos: 0.203, angle: -14.95 deg\n",
            "Episode: 45, exploration: 0.074, score: 9, pos: 0.167, angle: -12.93 deg\n",
            "Episode: 46, exploration: 0.071, score: 9, pos: 0.127, angle: -13.92 deg\n",
            "Episode: 47, exploration: 0.068, score: 8, pos: 0.111, angle: -12.0 deg\n",
            "Episode: 48, exploration: 0.066, score: 9, pos: 0.196, angle: -13.29 deg\n",
            "Episode: 49, exploration: 0.063, score: 9, pos: 0.18, angle: -14.26 deg\n",
            "Episode: 50, exploration: 0.06, score: 10, pos: 0.204, angle: -12.78 deg\n",
            "Episode: 51, exploration: 0.058, score: 8, pos: 0.085, angle: -12.45 deg\n",
            "Episode: 52, exploration: 0.055, score: 12, pos: 0.171, angle: -12.33 deg\n",
            "Episode: 53, exploration: 0.052, score: 11, pos: 0.138, angle: -12.65 deg\n",
            "Episode: 54, exploration: 0.048, score: 17, pos: 0.141, angle: -12.45 deg\n",
            "Episode: 55, exploration: 0.043, score: 24, pos: 0.143, angle: -12.14 deg\n",
            "Episode: 56, exploration: 0.034, score: 49, pos: -0.231, angle: -12.15 deg\n",
            "Episode: 57, exploration: 0.024, score: 70, pos: -0.076, angle: 12.54 deg\n",
            "Episode: 58, exploration: 0.02, score: 36, pos: -0.157, angle: 12.31 deg\n",
            "Episode: 59, exploration: 0.017, score: 39, pos: -0.014, angle: 12.05 deg\n",
            "Episode: 60, exploration: 0.014, score: 31, pos: -0.104, angle: 12.94 deg\n",
            "Episode: 61, exploration: 0.013, score: 21, pos: -0.042, angle: 12.4 deg\n",
            "Episode: 62, exploration: 0.012, score: 20, pos: -0.05, angle: 12.27 deg\n",
            "Episode: 63, exploration: 0.01, score: 51, pos: -0.016, angle: 12.3 deg\n",
            "Episode: 64, exploration: 0.01, score: 21, pos: -0.111, angle: 12.13 deg\n",
            "Episode: 65, exploration: 0.01, score: 37, pos: -0.016, angle: 12.31 deg\n",
            "Episode: 66, exploration: 0.01, score: 27, pos: -0.035, angle: 12.52 deg\n",
            "Episode: 67, exploration: 0.01, score: 33, pos: -0.109, angle: 12.13 deg\n",
            "Episode: 68, exploration: 0.01, score: 25, pos: -0.085, angle: 12.01 deg\n",
            "Episode: 69, exploration: 0.01, score: 31, pos: -0.055, angle: 12.35 deg\n",
            "Episode: 70, exploration: 0.01, score: 25, pos: -0.069, angle: 12.18 deg\n",
            "Episode: 71, exploration: 0.01, score: 67, pos: -0.128, angle: 12.41 deg\n",
            "Episode: 72, exploration: 0.01, score: 56, pos: -0.151, angle: 12.38 deg\n",
            "Episode: 73, exploration: 0.01, score: 45, pos: -0.094, angle: -12.06 deg\n",
            "Episode: 74, exploration: 0.01, score: 30, pos: 0.016, angle: 12.57 deg\n",
            "Episode: 75, exploration: 0.01, score: 44, pos: 0.118, angle: 12.9 deg\n",
            "Episode: 76, exploration: 0.01, score: 25, pos: -0.002, angle: -12.12 deg\n",
            "Episode: 77, exploration: 0.01, score: 53, pos: 0.024, angle: 12.3 deg\n",
            "Episode: 78, exploration: 0.01, score: 34, pos: -0.1, angle: -12.8 deg\n",
            "Episode: 79, exploration: 0.01, score: 42, pos: 0.053, angle: -12.01 deg\n",
            "Episode: 80, exploration: 0.01, score: 49, pos: -0.072, angle: -12.62 deg\n",
            "Episode: 81, exploration: 0.01, score: 25, pos: -0.001, angle: -12.48 deg\n"
          ]
        }
      ],
      "source": [
        "score, lcpos, lcvel, lpangl = cartpole(100)"
      ]
    },
    {
      "cell_type": "code",
      "execution_count": null,
      "metadata": {
        "id": "IdogEvndgUX0"
      },
      "outputs": [],
      "source": [
        "plt.plot(score)"
      ]
    },
    {
      "cell_type": "code",
      "execution_count": null,
      "metadata": {
        "id": "fcAz7Y5kO5ch"
      },
      "outputs": [],
      "source": [
        "plt.plot(lcpos)"
      ]
    },
    {
      "cell_type": "code",
      "execution_count": null,
      "metadata": {
        "id": "ynd8OWK-gWfr"
      },
      "outputs": [],
      "source": [
        "env.observation_space.shape[0]"
      ]
    },
    {
      "cell_type": "code",
      "execution_count": null,
      "metadata": {
        "id": "aXPfB9sYgZSM"
      },
      "outputs": [],
      "source": [
        "env.action_space"
      ]
    },
    {
      "cell_type": "markdown",
      "metadata": {
        "id": "bsxHoE2thI4v"
      },
      "source": [
        "\n",
        "    Observation: \n",
        "        Type: Box(4)\n",
        "\n",
        "    The observation is a `ndarray` with shape `(4,)` with the values corresponding to the following positions and velocities:\n",
        "    | Num | Observation           | Min                  | Max                |\n",
        "    |-----|-----------------------|----------------------|--------------------|\n",
        "    | 0   | Cart Position         | -4.8                 | 4.8                |\n",
        "    | 1   | Cart Velocity         | -Inf                 | Inf                |\n",
        "    | 2   | Pole Angle            | ~ -0.418 rad (-24°)  | ~ 0.418 rad (24°)  |\n",
        "    | 3   | Pole Angular Velocity | -Inf                 | Inf                |\n",
        "    **Note:** While the ranges above denote the possible values for observation space of each element, \n",
        "    it is not reflective of the allowed values of the state space in an unterminated episode. Particularly:\n",
        "    -  The cart x-position (index 0) can be take values between `(-4.8, 4.8)`, but the episode terminates if the cart leaves the `(-2.4, 2.4)` range.\n",
        "    -  The pole angle can be observed between  `(-.418, .418)` radians (or **±24°**), but the episode terminates if the pole angle is not in the range `(-.2095, .2095)` (or **±12°**)\n",
        "\n",
        "\n",
        "    Action:\n",
        "        Type: Discrete(2)\n",
        "        Num\tAction\n",
        "        0\tPush cart to the left\n",
        "        1\tPush cart to the right"
      ]
    },
    {
      "cell_type": "code",
      "execution_count": null,
      "metadata": {
        "id": "AX1NPGC7Pd5U"
      },
      "outputs": [],
      "source": [
        ""
      ]
    }
  ],
  "metadata": {
    "accelerator": "TPU",
    "colab": {
      "collapsed_sections": [],
      "name": "DQL-Cartpole",
      "provenance": [],
      "authorship_tag": "ABX9TyNV2QuyBWtUQG+Y1ZgQnLqK",
      "include_colab_link": true
    },
    "kernelspec": {
      "display_name": "Python 3",
      "name": "python3"
    },
    "language_info": {
      "name": "python"
    }
  },
  "nbformat": 4,
  "nbformat_minor": 0
}