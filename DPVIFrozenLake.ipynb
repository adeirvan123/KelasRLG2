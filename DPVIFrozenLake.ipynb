{
  "nbformat": 4,
  "nbformat_minor": 0,
  "metadata": {
    "colab": {
      "name": "DPVIFrozenLake",
      "provenance": [],
      "authorship_tag": "ABX9TyMd5+a57RG/yWw5KP0Z1PnS",
      "include_colab_link": true
    },
    "kernelspec": {
      "name": "python3",
      "display_name": "Python 3"
    },
    "language_info": {
      "name": "python"
    }
  },
  "cells": [
    {
      "cell_type": "markdown",
      "metadata": {
        "id": "view-in-github",
        "colab_type": "text"
      },
      "source": [
        "<a href=\"https://colab.research.google.com/github/oektomo/KelasRLG2/blob/master/DPVIFrozenLake.ipynb\" target=\"_parent\"><img src=\"https://colab.research.google.com/assets/colab-badge.svg\" alt=\"Open In Colab\"/></a>"
      ]
    },
    {
      "cell_type": "code",
      "execution_count": 1,
      "metadata": {
        "id": "0WRVhX-0Kt0R"
      },
      "outputs": [],
      "source": [
        "import gym\n",
        "import numpy as np"
      ]
    },
    {
      "cell_type": "code",
      "source": [
        "def one_step_lookahead(environment, state, V, discount_factor):\n",
        "        action_values = np.zeros(environment.nA)\n",
        "        for action in range(environment.nA):\n",
        "                for probability, next_state, reward, terminated in environment.P[state][action]:\n",
        "                        action_values[action] += probability * (reward + discount_factor * V[next_state])\n",
        "        return action_values"
      ],
      "metadata": {
        "id": "HxBIyNWwLUnj"
      },
      "execution_count": 2,
      "outputs": []
    },
    {
      "cell_type": "code",
      "source": [
        "def value_iteration(environment, discount_factor=0.9, theta=1e-9, max_iterations=1e9):\n",
        "        # Initialize state-value function with zeros for each environment state\n",
        "        V = np.zeros(environment.nS)\n",
        "        for i in range(int(max_iterations)):\n",
        "                # Early stopping condition\n",
        "                delta = 0\n",
        "                # Update each state\n",
        "                for state in range(environment.nS):\n",
        "                        # Do a one-step lookahead to calculate state-action values\n",
        "                        action_value = one_step_lookahead(environment, state, V, discount_factor)\n",
        "                        # Select best action to perform based on the highest state-action value\n",
        "                        best_action_value = np.max(action_value)\n",
        "                        # Calculate change in value\n",
        "                        delta = max(delta, np.abs(V[state] - best_action_value))\n",
        "                        # Update the value function for current state\n",
        "                        V[state] = best_action_value\n",
        "                        # Check if we can stop\n",
        "                if delta < theta:\n",
        "                        print(f'Value-iteration converged at iteration#{i}.')\n",
        "                        break\n",
        "\n",
        "        # Create a deterministic policy using the optimal value function\n",
        "        policy = np.zeros([environment.nS, environment.nA])\n",
        "        for state in range(environment.nS):\n",
        "                # One step lookahead to find the best action for this state\n",
        "                action_value = one_step_lookahead(environment, state, V, discount_factor)\n",
        "                # Select best action based on the highest state-action value\n",
        "                best_action = np.argmax(action_value)\n",
        "                # Update the policy to perform a better action at a current state\n",
        "                policy[state, best_action] = 1.0\n",
        "        return policy, V"
      ],
      "metadata": {
        "id": "NVuXHU13LA5S"
      },
      "execution_count": 3,
      "outputs": []
    },
    {
      "cell_type": "code",
      "source": [
        "environment = gym.make('FrozenLake-v0')\n",
        "\n",
        "policy_v, V_v = value_iteration(environment.env)\n",
        "#wins, total_reward, average_reward = play_episodes(environment, n_episodes, policy_v)"
      ],
      "metadata": {
        "colab": {
          "base_uri": "https://localhost:8080/"
        },
        "id": "OeQ71nmRK5zi",
        "outputId": "a6fa06b4-6a92-425e-e493-65db812ceb8e"
      },
      "execution_count": 4,
      "outputs": [
        {
          "output_type": "stream",
          "name": "stdout",
          "text": [
            "Value-iteration converged at iteration#96.\n"
          ]
        }
      ]
    },
    {
      "cell_type": "code",
      "source": [
        "V_v"
      ],
      "metadata": {
        "colab": {
          "base_uri": "https://localhost:8080/"
        },
        "id": "II9YkTrSMjii",
        "outputId": "b823f0cd-782f-459e-c59b-bf0f7e006aa8"
      },
      "execution_count": 5,
      "outputs": [
        {
          "output_type": "execute_result",
          "data": {
            "text/plain": [
              "array([0.0688909 , 0.06141457, 0.07440976, 0.05580732, 0.09185454,\n",
              "       0.        , 0.11220821, 0.        , 0.14543635, 0.24749695,\n",
              "       0.29961759, 0.        , 0.        , 0.3799359 , 0.63902015,\n",
              "       0.        ])"
            ]
          },
          "metadata": {},
          "execution_count": 5
        }
      ]
    },
    {
      "cell_type": "code",
      "source": [
        ""
      ],
      "metadata": {
        "id": "D6SM2fCAMliC"
      },
      "execution_count": null,
      "outputs": []
    }
  ]
}